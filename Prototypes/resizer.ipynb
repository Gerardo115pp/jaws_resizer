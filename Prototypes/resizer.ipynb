{
 "cells": [
  {
   "cell_type": "code",
   "execution_count": 15,
   "metadata": {},
   "outputs": [],
   "source": [
    "import os\n",
    "import subprocess\n",
    "import pathlib\n",
    "import re \n",
    "from PIL import Image"
   ]
  },
  {
   "cell_type": "code",
   "execution_count": 7,
   "metadata": {},
   "outputs": [],
   "source": [
    "current_test_dir = '../images_test/images/top_page_banners/'\n",
    "assert os.path.exists(current_test_dir), 'Directory not found: {}'.format(current_test_dir)"
   ]
  },
  {
   "cell_type": "code",
   "execution_count": 6,
   "metadata": {},
   "outputs": [],
   "source": [
    "images_regex = re.compile(r\".+\\.(png|jpg)\") # we dont want to mess with any other formats\n",
    "assert images_regex.match(\"test.png\"), 'Regex not working'\n",
    "assert not images_regex.match(\".png\"), 'Regex not working'"
   ]
  },
  {
   "cell_type": "code",
   "execution_count": 16,
   "metadata": {},
   "outputs": [],
   "source": [
    "def resizeImage(file_name: str):\n",
    "    image_obj = Image.open(file_name)\n",
    "    image_width = image_obj.width\n",
    "    image_obj.close()\n",
    "    \n",
    "    file_name_without_extension = os.path.splitext(file_name)[0]\n",
    "    if image_width > 1300:\n",
    "        convertion_process = [\"convert\", file_name, \"-resize\", \"1300x\", f\"{file_name_without_extension}-large.webp\"]\n",
    "        complete = subprocess.run(convertion_process)\n",
    "        print(f\"{file_name} resized to 1300x: {'Success' if complete.returncode == 0 else 'Failed'}\")\n",
    "        \n",
    "    if image_width > 600:\n",
    "        convertion_process = [\"convert\", file_name, \"-resize\", \"600x\", f\"{file_name_without_extension}-medium.webp\"]\n",
    "        complete = subprocess.run(convertion_process)\n",
    "        print(f\"{file_name} resized to 600x: {'Success' if complete.returncode == 0 else 'Failed'}\")\n",
    "        \n",
    "    if image_width > 300:\n",
    "        convertion_process = [\"convert\", file_name, \"-resize\", \"300x\", f\"{file_name_without_extension}-small.webp\"]\n",
    "        complete = subprocess.run(convertion_process)\n",
    "        print(f\"{file_name} resized to 300x: {'Success' if complete.returncode == 0 else 'Failed'}\")\n",
    "    \n",
    "    return\n",
    "\n",
    "def traverseDir(dir_path: str):\n",
    "    for file in os.listdir(dir_path):\n",
    "        file_path = os.path.join(dir_path, file)\n",
    "        if os.path.isdir(file_path):\n",
    "            traverseDir(file_path)\n",
    "        elif images_regex.match(file):\n",
    "            resizeImage(file_path)"
   ]
  },
  {
   "cell_type": "code",
   "execution_count": 17,
   "metadata": {},
   "outputs": [
    {
     "name": "stdout",
     "output_type": "stream",
     "text": [
      "../images_test/images/top_page_banners/4store.png resized to 1300x: Success\n",
      "../images_test/images/top_page_banners/4store.png resized to 600x: Success\n",
      "../images_test/images/top_page_banners/4store.png resized to 300x: Success\n",
      "../images_test/images/top_page_banners/5contact-us.png resized to 1300x: Success\n",
      "../images_test/images/top_page_banners/5contact-us.png resized to 600x: Success\n",
      "../images_test/images/top_page_banners/5contact-us.png resized to 300x: Success\n",
      "../images_test/images/top_page_banners/3marketplace.png resized to 1300x: Success\n",
      "../images_test/images/top_page_banners/3marketplace.png resized to 600x: Success\n",
      "../images_test/images/top_page_banners/3marketplace.png resized to 300x: Success\n",
      "../images_test/images/top_page_banners/6about-us.png resized to 1300x: Success\n",
      "../images_test/images/top_page_banners/6about-us.png resized to 600x: Success\n",
      "../images_test/images/top_page_banners/6about-us.png resized to 300x: Success\n",
      "../images_test/images/top_page_banners/8notable-clients.png resized to 1300x: Success\n",
      "../images_test/images/top_page_banners/8notable-clients.png resized to 600x: Success\n",
      "../images_test/images/top_page_banners/8notable-clients.png resized to 300x: Success\n",
      "../images_test/images/top_page_banners/nftatlantis-r1-f-logo-.png resized to 1300x: Success\n",
      "../images_test/images/top_page_banners/nftatlantis-r1-f-logo-.png resized to 600x: Success\n",
      "../images_test/images/top_page_banners/nftatlantis-r1-f-logo-.png resized to 300x: Success\n",
      "../images_test/images/top_page_banners/1home.png resized to 1300x: Success\n",
      "../images_test/images/top_page_banners/1home.png resized to 600x: Success\n",
      "../images_test/images/top_page_banners/1home.png resized to 300x: Success\n",
      "../images_test/images/top_page_banners/2portfolio.png resized to 1300x: Success\n",
      "../images_test/images/top_page_banners/2portfolio.png resized to 600x: Success\n",
      "../images_test/images/top_page_banners/2portfolio.png resized to 300x: Success\n",
      "../images_test/images/top_page_banners/7our-services.png resized to 1300x: Success\n",
      "../images_test/images/top_page_banners/7our-services.png resized to 600x: Success\n",
      "../images_test/images/top_page_banners/7our-services.png resized to 300x: Success\n"
     ]
    }
   ],
   "source": [
    "traverseDir(current_test_dir)"
   ]
  }
 ],
 "metadata": {
  "kernelspec": {
   "display_name": "Python 3.10.5 64-bit",
   "language": "python",
   "name": "python3"
  },
  "language_info": {
   "codemirror_mode": {
    "name": "ipython",
    "version": 3
   },
   "file_extension": ".py",
   "mimetype": "text/x-python",
   "name": "python",
   "nbconvert_exporter": "python",
   "pygments_lexer": "ipython3",
   "version": "3.10.5"
  },
  "orig_nbformat": 4,
  "vscode": {
   "interpreter": {
    "hash": "e7370f93d1d0cde622a1f8e1c04877d8463912d04d973331ad4851f04de6915a"
   }
  }
 },
 "nbformat": 4,
 "nbformat_minor": 2
}
